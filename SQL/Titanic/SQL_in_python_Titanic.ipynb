{
  "nbformat": 4,
  "nbformat_minor": 0,
  "metadata": {
    "colab": {
      "name": "SQL_in_python - Titanic",
      "provenance": [],
      "collapsed_sections": [],
      "mount_file_id": "1FZSSQSCQvbbdgIkXADdK9WeB2UTEacrJ",
      "authorship_tag": "ABX9TyNLMAC9AmMr6t6fHYSha62r",
      "include_colab_link": true
    },
    "kernelspec": {
      "name": "python3",
      "display_name": "Python 3"
    },
    "language_info": {
      "name": "python"
    }
  },
  "cells": [
    {
      "cell_type": "markdown",
      "metadata": {
        "id": "view-in-github",
        "colab_type": "text"
      },
      "source": [
        "<a href=\"https://colab.research.google.com/github/jjean95/TalentLabs/blob/main/SQL/Titanic/SQL_in_python_Titanic.ipynb\" target=\"_parent\"><img src=\"https://colab.research.google.com/assets/colab-badge.svg\" alt=\"Open In Colab\"/></a>"
      ]
    },
    {
      "cell_type": "code",
      "execution_count": null,
      "metadata": {
        "id": "d9JMs0AxagXe"
      },
      "outputs": [],
      "source": [
        "import sqlite3"
      ]
    },
    {
      "cell_type": "code",
      "source": [
        "conn = sqlite3.connect('/content/drive/MyDrive/Talent Labs/Foundation/SQL/Titanic/titanic.db')\n",
        "print(\"Opened database successfully\");"
      ],
      "metadata": {
        "colab": {
          "base_uri": "https://localhost:8080/"
        },
        "id": "upRDymiDbmVj",
        "outputId": "9425c7bb-04ec-425f-971c-501fbd0147ea"
      },
      "execution_count": null,
      "outputs": [
        {
          "output_type": "stream",
          "name": "stdout",
          "text": [
            "Opened database successfully\n"
          ]
        }
      ]
    },
    {
      "cell_type": "code",
      "source": [
        "cursor = conn.execute('''\n",
        "          SELECT * \n",
        "          FROM passengers\n",
        "          LIMIT 20 ''')\n",
        "for column in cursor.description:\n",
        "  print(column[0])\n",
        "for row in cursor:\n",
        "  print(row)"
      ],
      "metadata": {
        "id": "1d_1ttTVd4fL"
      },
      "execution_count": null,
      "outputs": []
    },
    {
      "cell_type": "code",
      "source": [
        "# Check how many missing data in age\n",
        "cursor = conn.execute('''\n",
        "          SELECT COUNT(*) \n",
        "          FROM passengers\n",
        "          WHERE Age IS null\n",
        "          ''')\n",
        "for column in cursor.description:\n",
        "  print(column[0])\n",
        "for row in cursor:\n",
        "  print(row)"
      ],
      "metadata": {
        "id": "ORI7s2EvfYRs"
      },
      "execution_count": null,
      "outputs": []
    },
    {
      "cell_type": "code",
      "source": [
        "# Check how many missing data in cabin\n",
        "cursor = conn.execute('''\n",
        "          SELECT COUNT(*) \n",
        "          FROM passengers\n",
        "          WHERE Cabin IS null OR Cabin = 0\n",
        "          ''')\n",
        "for column in cursor.description:\n",
        "  print(column[0])\n",
        "for row in cursor:\n",
        "  print(row)"
      ],
      "metadata": {
        "id": "7eXLjgziffut"
      },
      "execution_count": null,
      "outputs": []
    },
    {
      "cell_type": "code",
      "source": [
        "# Check how many missing data in embarked\n",
        "cursor = conn.execute('''\n",
        "          SELECT COUNT(*) \n",
        "          FROM passengers\n",
        "          WHERE Embarked IS null\n",
        "          ''')\n",
        "for column in cursor.description:\n",
        "  print(column[0])\n",
        "for row in cursor:\n",
        "  print(row)"
      ],
      "metadata": {
        "id": "zM8a59r-f6BE"
      },
      "execution_count": null,
      "outputs": []
    },
    {
      "cell_type": "code",
      "source": [
        "# Check how many missing data in embarked\n",
        "cursor = conn.execute('''\n",
        "          SELECT COUNT(*) \n",
        "          FROM passengers\n",
        "          WHERE Age IS NOT null\n",
        "          ''')\n",
        "for column in cursor.description:\n",
        "  print(column[0])\n",
        "for row in cursor:\n",
        "  print(row)"
      ],
      "metadata": {
        "id": "JIOW4oOHf-v8"
      },
      "execution_count": null,
      "outputs": []
    },
    {
      "cell_type": "code",
      "source": [
        "# Survival rate of Titanic\n",
        "cursor = conn.execute('''\n",
        "          SELECT Survived, count(*) AS survive_count,\n",
        "          round(count(*) * 100.0 /(SELECT count(*) FROM passengers),2) AS percentage\n",
        "          FROM passengers\n",
        "          GROUP BY Survived\n",
        "          ''')\n",
        "for column in cursor.description:\n",
        "  print(column[0])\n",
        "\n",
        "for row in cursor:\n",
        "  print(row)"
      ],
      "metadata": {
        "colab": {
          "base_uri": "https://localhost:8080/"
        },
        "id": "OQIiP0UGgh1r",
        "outputId": "7fa34f7a-dc41-4cdb-cd6f-8b622440884f"
      },
      "execution_count": null,
      "outputs": [
        {
          "output_type": "stream",
          "name": "stdout",
          "text": [
            "Survived\n",
            "survive_count\n",
            "percentage\n",
            "(0, 549, 61.62)\n",
            "(1, 342, 38.38)\n"
          ]
        }
      ]
    },
    {
      "cell_type": "code",
      "source": [
        "#Survival rate of children/elderlies vs adult\n",
        "cursor = conn.execute('''\n",
        "          WITH Demographics AS (SELECT *,\n",
        "          CASE\n",
        "          WHEN Age BETWEEN  0 AND 18  then \"Children\"\n",
        "          WHEN Age > 59  then \"Elderlies\" \n",
        "          WHEN Age > 18 AND Age < 60 then \"Adult\"\n",
        "          Else \"NULL\"\n",
        "          END AS Demo\n",
        "          FROM passengers)\n",
        "          SELECT COUNT(*), Demo\n",
        "          FROM Demographics\n",
        "          GROUP BY Demo\n",
        "          ''')\n",
        "for column in cursor.description:\n",
        "  print(column[0])\n",
        "\n",
        "for row in cursor:\n",
        "  print(row)"
      ],
      "metadata": {
        "colab": {
          "base_uri": "https://localhost:8080/"
        },
        "id": "n4eDciz_mTK_",
        "outputId": "ef1f51a9-569c-4810-da62-76bb6ad6e9de"
      },
      "execution_count": null,
      "outputs": [
        {
          "output_type": "stream",
          "name": "stdout",
          "text": [
            "COUNT(*)\n",
            "Demo\n",
            "(579, 'Adult')\n",
            "(91, 'Children')\n",
            "(44, 'Elderlies')\n",
            "(177, 'NULL')\n"
          ]
        }
      ]
    },
    {
      "cell_type": "code",
      "source": [
        "cursor = conn.execute('''\n",
        "          WITH Demographics AS (SELECT *,\n",
        "          CASE\n",
        "          WHEN Age BETWEEN  0 AND 18  then \"Children\"\n",
        "          WHEN Age > 59  then \"Elderlies\" \n",
        "          WHEN Age > 18 AND Age < 60 then \"Adult\"\n",
        "          Else \"NULL\"\n",
        "          END AS Demo\n",
        "          FROM passengers)\n",
        "          SELECT count(*), Demo, Survived,\n",
        "          round(count(*) * 100.0 /(SELECT count(*) FROM \n",
        "          (SELECT *\n",
        "          FROM Demographics\n",
        "          WHERE Demo = 'Adult')),2) AS percentage\n",
        "          FROM Demographics\n",
        "          GROUP BY Demo, Survived\n",
        "          Having Demo = 'Adult'\n",
        "          ''')\n",
        "for column in cursor.description:\n",
        "  print(column[0])\n",
        "\n",
        "for row in cursor:\n",
        "  print(row)"
      ],
      "metadata": {
        "colab": {
          "base_uri": "https://localhost:8080/"
        },
        "id": "h5sCtU2Kxii_",
        "outputId": "01c27ad3-cefc-4760-8d70-d2deaa87e755"
      },
      "execution_count": null,
      "outputs": [
        {
          "output_type": "stream",
          "name": "stdout",
          "text": [
            "count(*)\n",
            "Demo\n",
            "Survived\n",
            "percentage\n",
            "(347, 'Adult', 0, 59.93)\n",
            "(232, 'Adult', 1, 40.07)\n"
          ]
        }
      ]
    },
    {
      "cell_type": "code",
      "source": [
        "cursor = conn.execute('''\n",
        "          WITH Demographics AS (SELECT *,\n",
        "          CASE\n",
        "          WHEN Age BETWEEN 0 AND 17 then \"Children\"\n",
        "          WHEN Age > 59  then \"Elderlies\" \n",
        "          WHEN Age > 18 AND Age < 60 then \"Adult\"\n",
        "          Else \"NULL\"\n",
        "          END AS Demo\n",
        "          FROM passengers)\n",
        "          SELECT count(*), Demo, Survived,\n",
        "          round(count(*) * 100.0 /(SELECT count(*) FROM \n",
        "          (SELECT *\n",
        "          FROM Demographics\n",
        "          WHERE Demo = 'Children')),2) AS percentage\n",
        "          FROM Demographics\n",
        "          GROUP BY Demo, Survived\n",
        "          Having Demo = 'Children'\n",
        "          ''')\n",
        "for column in cursor.description:\n",
        "  print(column[0])\n",
        "\n",
        "for row in cursor:\n",
        "  print(row)"
      ],
      "metadata": {
        "colab": {
          "base_uri": "https://localhost:8080/"
        },
        "id": "dOdKhwZGydbT",
        "outputId": "d40466a4-a45d-4f5e-abff-1e9799e86a9f"
      },
      "execution_count": null,
      "outputs": [
        {
          "output_type": "stream",
          "name": "stdout",
          "text": [
            "count(*)\n",
            "Demo\n",
            "Survived\n",
            "percentage\n",
            "(30, 'Children', 0, 46.15)\n",
            "(35, 'Children', 1, 53.85)\n"
          ]
        }
      ]
    },
    {
      "cell_type": "code",
      "source": [
        "cursor = conn.execute('''\n",
        "          WITH Demographics AS (SELECT *,\n",
        "          CASE\n",
        "          WHEN Age BETWEEN 0 AND 17  then \"Children\"\n",
        "          WHEN Age > 59  then \"Elderlies\" \n",
        "          WHEN Age > 18 AND Age < 60 then \"Adult\"\n",
        "          Else \"NULL\"\n",
        "          END AS Demo\n",
        "          FROM passengers)\n",
        "          SELECT count(*), Demo, Survived,\n",
        "          round(count(*) * 100.0 /(SELECT count(*) FROM \n",
        "          (SELECT *\n",
        "          FROM Demographics\n",
        "          WHERE Demo = 'Elderlies')),2) AS percentage\n",
        "          FROM Demographics\n",
        "          GROUP BY Demo, Survived\n",
        "          Having Demo = 'Elderlies'\n",
        "          ''')\n",
        "for column in cursor.description:\n",
        "  print(column[0])\n",
        "\n",
        "for row in cursor:\n",
        "  print(row)"
      ],
      "metadata": {
        "colab": {
          "base_uri": "https://localhost:8080/"
        },
        "id": "0he3Smlgyj2v",
        "outputId": "34136ce3-c0be-45a8-9f12-834160f15293"
      },
      "execution_count": null,
      "outputs": [
        {
          "output_type": "stream",
          "name": "stdout",
          "text": [
            "count(*)\n",
            "Demo\n",
            "Survived\n",
            "percentage\n",
            "(30, 'Elderlies', 0, 68.18)\n",
            "(14, 'Elderlies', 1, 31.82)\n"
          ]
        }
      ]
    },
    {
      "cell_type": "code",
      "source": [
        "#Survivors\n",
        "cursor = conn.execute('''\n",
        "          SELECT Sex, count(*)\n",
        "          FROM passengers\n",
        "          GROUP BY Sex\n",
        "          ''')\n",
        "for column in cursor.description:\n",
        "  print(column[0])\n",
        "\n",
        "for row in cursor:\n",
        "  print(row)"
      ],
      "metadata": {
        "colab": {
          "base_uri": "https://localhost:8080/"
        },
        "id": "ut2LPdhQy9l6",
        "outputId": "9b7b0d44-9cd2-43b5-9b16-d3d2ae20ee2f"
      },
      "execution_count": null,
      "outputs": [
        {
          "output_type": "stream",
          "name": "stdout",
          "text": [
            "Sex\n",
            "count(*)\n",
            "('female', 314)\n",
            "('male', 577)\n"
          ]
        }
      ]
    },
    {
      "cell_type": "code",
      "source": [
        "#Survivors male\n",
        "cursor = conn.execute('''\n",
        "          SELECT Survived, count(*) AS survive_count, Sex,\n",
        "          round(count(*) * 100.0 /(SELECT count(*) FROM passengers),2) AS percentage\n",
        "          FROM passengers\n",
        "          GROUP BY Survived, Sex\n",
        "          ''')\n",
        "for column in cursor.description:\n",
        "  print(column[0])\n",
        "\n",
        "for row in cursor:\n",
        "  print(row)"
      ],
      "metadata": {
        "id": "ajrAq9e24oGy",
        "colab": {
          "base_uri": "https://localhost:8080/"
        },
        "outputId": "93e9b015-3102-4cb6-dc72-a285ea68e6dc"
      },
      "execution_count": null,
      "outputs": [
        {
          "output_type": "stream",
          "name": "stdout",
          "text": [
            "Survived\n",
            "survive_count\n",
            "Sex\n",
            "percentage\n",
            "(0, 81, 'female', 9.09)\n",
            "(0, 468, 'male', 52.53)\n",
            "(1, 233, 'female', 26.15)\n",
            "(1, 109, 'male', 12.23)\n"
          ]
        }
      ]
    },
    {
      "cell_type": "code",
      "source": [
        "#Survivors male\n",
        "cursor = conn.execute('''\n",
        "          SELECT Survived, count(*) AS survive_count,\n",
        "          round(count(*) * 100.0 / (SELECT count(*) FROM passengers WHERE Sex = 'male'),2) AS percentage\n",
        "          FROM passengers\n",
        "          WHERE Sex = 'male'\n",
        "          GROUP BY Survived\n",
        "          ''')\n",
        "for column in cursor.description:\n",
        "  print(column[0])\n",
        "\n",
        "for row in cursor:\n",
        "  print(row)"
      ],
      "metadata": {
        "colab": {
          "base_uri": "https://localhost:8080/"
        },
        "id": "K1tyl7Vr8e73",
        "outputId": "a3efce47-6f67-41d9-d048-bdd4942574a0"
      },
      "execution_count": null,
      "outputs": [
        {
          "output_type": "stream",
          "name": "stdout",
          "text": [
            "Survived\n",
            "survive_count\n",
            "percentage\n",
            "(0, 468, 81.11)\n",
            "(1, 109, 18.89)\n"
          ]
        }
      ]
    },
    {
      "cell_type": "code",
      "source": [
        "#Survivors female\n",
        "cursor = conn.execute('''\n",
        "          SELECT Survived, count(*) AS survive_count,\n",
        "          round(count(*) * 100.0 / (SELECT count(*) FROM passengers WHERE Sex = 'female'),2) AS percentage\n",
        "          FROM passengers\n",
        "          WHERE Sex = 'female'\n",
        "          GROUP BY Survived\n",
        "          ''')\n",
        "for column in cursor.description:\n",
        "  print(column[0])\n",
        "\n",
        "for row in cursor:\n",
        "  print(row)"
      ],
      "metadata": {
        "colab": {
          "base_uri": "https://localhost:8080/"
        },
        "id": "tEcaTteb7KHM",
        "outputId": "315c564d-f7ac-494f-92d5-d51e78c4c346"
      },
      "execution_count": null,
      "outputs": [
        {
          "output_type": "stream",
          "name": "stdout",
          "text": [
            "Survived\n",
            "survive_count\n",
            "percentage\n",
            "(0, 81, 25.8)\n",
            "(1, 233, 74.2)\n"
          ]
        }
      ]
    },
    {
      "cell_type": "code",
      "source": [
        "#Class demographics\n",
        "#class count\n",
        "cursor = conn.execute('''\n",
        "          SELECT Pclass, count(*)\n",
        "          FROM passengers\n",
        "          GROUP BY Pclass\n",
        "          ''')\n",
        "for column in cursor.description:\n",
        "  print(column[0])\n",
        "\n",
        "for row in cursor:\n",
        "  print(row)\n",
        "#1st class\n",
        "cursor = conn.execute('''\n",
        "          SELECT Survived, count(*) AS survive_count,\n",
        "          round(count(*) * 100.0 / (SELECT count(*) FROM passengers WHERE Pclass = '1'),2) AS percentage\n",
        "          FROM passengers\n",
        "          WHERE Pclass = '1'\n",
        "          GROUP BY Survived\n",
        "          ''')\n",
        "for column in cursor.description:\n",
        "  print(column[0])\n",
        "\n",
        "for row in cursor:\n",
        "  print(row)\n",
        "#2nd class\n",
        "cursor = conn.execute('''\n",
        "          SELECT Survived, count(*) AS survive_count,\n",
        "          round(count(*) * 100.0 / (SELECT count(*) FROM passengers WHERE Pclass = '2'),2) AS percentage\n",
        "          FROM passengers\n",
        "          WHERE Pclass = '2'\n",
        "          GROUP BY Survived\n",
        "          ''')\n",
        "for column in cursor.description:\n",
        "  print(column[0])\n",
        "\n",
        "for row in cursor:\n",
        "  print(row)\n",
        "#3rd class\n",
        "cursor = conn.execute('''\n",
        "          SELECT Survived, count(*) AS survive_count,\n",
        "          round(count(*) * 100.0 / (SELECT count(*) FROM passengers WHERE Pclass = '3'),2) AS percentage\n",
        "          FROM passengers\n",
        "          WHERE Pclass = '3'\n",
        "          GROUP BY Survived\n",
        "          ''')\n",
        "for column in cursor.description:\n",
        "  print(column[0])\n",
        "\n",
        "for row in cursor:\n",
        "  print(row)"
      ],
      "metadata": {
        "colab": {
          "base_uri": "https://localhost:8080/"
        },
        "id": "qPytRAuF8nua",
        "outputId": "1e7f7a8b-87d3-470c-ec33-641471ba445a"
      },
      "execution_count": null,
      "outputs": [
        {
          "output_type": "stream",
          "name": "stdout",
          "text": [
            "Pclass\n",
            "count(*)\n",
            "(1, 216)\n",
            "(2, 184)\n",
            "(3, 491)\n",
            "Survived\n",
            "survive_count\n",
            "percentage\n",
            "(0, 80, 37.04)\n",
            "(1, 136, 62.96)\n",
            "Survived\n",
            "survive_count\n",
            "percentage\n",
            "(0, 97, 52.72)\n",
            "(1, 87, 47.28)\n",
            "Survived\n",
            "survive_count\n",
            "percentage\n",
            "(0, 372, 75.76)\n",
            "(1, 119, 24.24)\n"
          ]
        }
      ]
    },
    {
      "cell_type": "code",
      "source": [
        "#Embarkation\n",
        "#Embarkation count\n",
        "cursor = conn.execute('''\n",
        "          SELECT Embarked, count(*)\n",
        "          FROM passengers\n",
        "          GROUP BY Embarked\n",
        "          ''')\n",
        "for column in cursor.description:\n",
        "  print(column[0])\n",
        "\n",
        "for row in cursor:\n",
        "  print(row)\n",
        "\n",
        "#C\n",
        "cursor = conn.execute('''\n",
        "          SELECT Survived, count(*) AS survive_count,\n",
        "          round(count(*) * 100.0 / (SELECT count(*) FROM passengers WHERE Embarked = 'C'),2) AS percentage\n",
        "          FROM passengers\n",
        "          WHERE Embarked = 'C'\n",
        "          GROUP BY Survived\n",
        "          ''')\n",
        "for column in cursor.description:\n",
        "  print(column[0])\n",
        "\n",
        "for row in cursor:\n",
        "  print(row)\n",
        "\n",
        "#Q\n",
        "cursor = conn.execute('''\n",
        "          SELECT Survived, count(*) AS survive_count,\n",
        "          round(count(*) * 100.0 / (SELECT count(*) FROM passengers WHERE Embarked = 'Q'),2) AS percentage\n",
        "          FROM passengers\n",
        "          WHERE Embarked = 'Q'\n",
        "          GROUP BY Survived\n",
        "          ''')\n",
        "for column in cursor.description:\n",
        "  print(column[0])\n",
        "\n",
        "for row in cursor:\n",
        "  print(row)\n",
        "\n",
        "#S\n",
        "cursor = conn.execute('''\n",
        "          SELECT Survived, count(*) AS survive_count,\n",
        "          round(count(*) * 100.0 / (SELECT count(*) FROM passengers WHERE Embarked = 'S'),2) AS percentage\n",
        "          FROM passengers\n",
        "          WHERE Embarked = 'S'\n",
        "          GROUP BY Survived\n",
        "          ''')\n",
        "for column in cursor.description:\n",
        "  print(column[0])\n",
        "\n",
        "for row in cursor:\n",
        "  print(row)"
      ],
      "metadata": {
        "colab": {
          "base_uri": "https://localhost:8080/"
        },
        "id": "omQ_uSJ49S3b",
        "outputId": "7862b317-145f-45b5-fad4-572051669353"
      },
      "execution_count": null,
      "outputs": [
        {
          "output_type": "stream",
          "name": "stdout",
          "text": [
            "Embarked\n",
            "count(*)\n",
            "(None, 2)\n",
            "('C', 168)\n",
            "('Q', 77)\n",
            "('S', 644)\n",
            "Survived\n",
            "survive_count\n",
            "percentage\n",
            "(0, 75, 44.64)\n",
            "(1, 93, 55.36)\n",
            "Survived\n",
            "survive_count\n",
            "percentage\n",
            "(0, 47, 61.04)\n",
            "(1, 30, 38.96)\n",
            "Survived\n",
            "survive_count\n",
            "percentage\n",
            "(0, 427, 66.3)\n",
            "(1, 217, 33.7)\n"
          ]
        }
      ]
    },
    {
      "cell_type": "code",
      "source": [
        "#Without family\n",
        "#Parch SibSp count\n",
        "cursor = conn.execute('''\n",
        "          SELECT Parch, SibSp, count(*)\n",
        "          FROM passengers\n",
        "          GROUP BY Parch, SibSp\n",
        "          ''')\n",
        "for column in cursor.description:\n",
        "  print(column[0])\n",
        "\n",
        "for row in cursor:\n",
        "  print(row)"
      ],
      "metadata": {
        "colab": {
          "base_uri": "https://localhost:8080/"
        },
        "id": "aMdI0xYi97Vg",
        "outputId": "61b91f2a-f329-4a7e-9088-672a87923d37"
      },
      "execution_count": null,
      "outputs": [
        {
          "output_type": "stream",
          "name": "stdout",
          "text": [
            "Parch\n",
            "SibSp\n",
            "count(*)\n",
            "(0, 0, 537)\n",
            "(0, 1, 123)\n",
            "(0, 2, 16)\n",
            "(0, 3, 2)\n",
            "(1, 0, 38)\n",
            "(1, 1, 57)\n",
            "(1, 2, 7)\n",
            "(1, 3, 7)\n",
            "(1, 4, 9)\n",
            "(2, 0, 29)\n",
            "(2, 1, 19)\n",
            "(2, 2, 4)\n",
            "(2, 3, 7)\n",
            "(2, 4, 9)\n",
            "(2, 5, 5)\n",
            "(2, 8, 7)\n",
            "(3, 0, 1)\n",
            "(3, 1, 3)\n",
            "(3, 2, 1)\n",
            "(4, 0, 1)\n",
            "(4, 1, 3)\n",
            "(5, 0, 2)\n",
            "(5, 1, 3)\n",
            "(6, 1, 1)\n"
          ]
        }
      ]
    },
    {
      "cell_type": "code",
      "source": [
        "#without family onboard\n",
        "cursor = conn.execute('''\n",
        "          SELECT Survived, count(*) AS survive_count,\n",
        "          round(count(*) * 100.0 / (SELECT count(*) FROM passengers WHERE Parch = 0 AND SibSp = 0),2) AS percentage\n",
        "          FROM passengers\n",
        "          WHERE Parch = 0 AND SibSp = 0\n",
        "          GROUP BY Survived\n",
        "          ''')\n",
        "\n",
        "for column in cursor.description:\n",
        "  print(column[0])\n",
        "\n",
        "for row in cursor:\n",
        "  print(row)"
      ],
      "metadata": {
        "colab": {
          "base_uri": "https://localhost:8080/"
        },
        "id": "lpIdybcD-Ki2",
        "outputId": "c2c1b693-a6d9-45b9-c12f-02c27f869521"
      },
      "execution_count": null,
      "outputs": [
        {
          "output_type": "stream",
          "name": "stdout",
          "text": [
            "Survived\n",
            "survive_count\n",
            "percentage\n",
            "(0, 374, 69.65)\n",
            "(1, 163, 30.35)\n"
          ]
        }
      ]
    },
    {
      "cell_type": "code",
      "source": [
        "#execute last\n",
        "conn.close()"
      ],
      "metadata": {
        "id": "HDgNRnX_fdhz"
      },
      "execution_count": null,
      "outputs": []
    }
  ]
}